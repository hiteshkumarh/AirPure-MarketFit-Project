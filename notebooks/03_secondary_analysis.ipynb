{
 "cells": [
  {
   "cell_type": "markdown",
   "id": "3188caa9-203d-4dcc-9ec9-6371b2b6b057",
   "metadata": {},
   "source": [
    "# Secondary Analysis – S1\n",
    "## Which age group is most affected by air pollution-related health outcomes — and how does this vary by state?\n"
   ]
  },
  {
   "cell_type": "code",
   "execution_count": 1,
   "id": "8235d060-56d4-49d5-b4b7-28230834a1aa",
   "metadata": {},
   "outputs": [
    {
     "data": {
      "text/html": [
       "<div>\n",
       "<style scoped>\n",
       "    .dataframe tbody tr th:only-of-type {\n",
       "        vertical-align: middle;\n",
       "    }\n",
       "\n",
       "    .dataframe tbody tr th {\n",
       "        vertical-align: top;\n",
       "    }\n",
       "\n",
       "    .dataframe thead th {\n",
       "        text-align: right;\n",
       "    }\n",
       "</style>\n",
       "<table border=\"1\" class=\"dataframe\">\n",
       "  <thead>\n",
       "    <tr style=\"text-align: right;\">\n",
       "      <th></th>\n",
       "      <th>year</th>\n",
       "      <th>week</th>\n",
       "      <th>outbreak_starting_date</th>\n",
       "      <th>reporting_date</th>\n",
       "      <th>state</th>\n",
       "      <th>district</th>\n",
       "      <th>disease_illness_name</th>\n",
       "      <th>status</th>\n",
       "      <th>cases</th>\n",
       "      <th>deaths</th>\n",
       "      <th>unit</th>\n",
       "      <th>note</th>\n",
       "    </tr>\n",
       "  </thead>\n",
       "  <tbody>\n",
       "    <tr>\n",
       "      <th>0</th>\n",
       "      <td>2025</td>\n",
       "      <td>16</td>\n",
       "      <td>15-04-2025</td>\n",
       "      <td>15-04-2025</td>\n",
       "      <td>Andhra Pradesh</td>\n",
       "      <td>Kakinada</td>\n",
       "      <td>Acute Diarrheal Disease</td>\n",
       "      <td>Reported</td>\n",
       "      <td>22</td>\n",
       "      <td>0</td>\n",
       "      <td>cases in absolute number, deaths in absolute n...</td>\n",
       "      <td>NaN</td>\n",
       "    </tr>\n",
       "    <tr>\n",
       "      <th>1</th>\n",
       "      <td>2025</td>\n",
       "      <td>16</td>\n",
       "      <td>15-04-2025</td>\n",
       "      <td>17-04-2025</td>\n",
       "      <td>Assam</td>\n",
       "      <td>Biswanath</td>\n",
       "      <td>Chickenpox</td>\n",
       "      <td>Reported</td>\n",
       "      <td>1</td>\n",
       "      <td>1</td>\n",
       "      <td>cases in absolute number, deaths in absolute n...</td>\n",
       "      <td>NaN</td>\n",
       "    </tr>\n",
       "    <tr>\n",
       "      <th>2</th>\n",
       "      <td>2025</td>\n",
       "      <td>16</td>\n",
       "      <td>19-04-2025</td>\n",
       "      <td>20-04-2025</td>\n",
       "      <td>Assam</td>\n",
       "      <td>Dhemaji</td>\n",
       "      <td>Food Poisoning</td>\n",
       "      <td>Reported</td>\n",
       "      <td>16</td>\n",
       "      <td>0</td>\n",
       "      <td>cases in absolute number, deaths in absolute n...</td>\n",
       "      <td>NaN</td>\n",
       "    </tr>\n",
       "    <tr>\n",
       "      <th>3</th>\n",
       "      <td>2025</td>\n",
       "      <td>16</td>\n",
       "      <td>19-04-2025</td>\n",
       "      <td>19-04-2025</td>\n",
       "      <td>Bihar</td>\n",
       "      <td>Gopalganj</td>\n",
       "      <td>Fever with Rash</td>\n",
       "      <td>Reported</td>\n",
       "      <td>5</td>\n",
       "      <td>0</td>\n",
       "      <td>cases in absolute number, deaths in absolute n...</td>\n",
       "      <td>NaN</td>\n",
       "    </tr>\n",
       "    <tr>\n",
       "      <th>4</th>\n",
       "      <td>2025</td>\n",
       "      <td>16</td>\n",
       "      <td>12-04-2025</td>\n",
       "      <td>15-04-2025</td>\n",
       "      <td>Bihar</td>\n",
       "      <td>Madhubani</td>\n",
       "      <td>Acute Diarrheal Disease</td>\n",
       "      <td>Reported</td>\n",
       "      <td>21</td>\n",
       "      <td>0</td>\n",
       "      <td>cases in absolute number, deaths in absolute n...</td>\n",
       "      <td>NaN</td>\n",
       "    </tr>\n",
       "  </tbody>\n",
       "</table>\n",
       "</div>"
      ],
      "text/plain": [
       "   year  week outbreak_starting_date reporting_date           state  \\\n",
       "0  2025    16             15-04-2025     15-04-2025  Andhra Pradesh   \n",
       "1  2025    16             15-04-2025     17-04-2025           Assam   \n",
       "2  2025    16             19-04-2025     20-04-2025           Assam   \n",
       "3  2025    16             19-04-2025     19-04-2025           Bihar   \n",
       "4  2025    16             12-04-2025     15-04-2025           Bihar   \n",
       "\n",
       "    district     disease_illness_name    status  cases  deaths  \\\n",
       "0   Kakinada  Acute Diarrheal Disease  Reported     22       0   \n",
       "1  Biswanath               Chickenpox  Reported      1       1   \n",
       "2    Dhemaji           Food Poisoning  Reported     16       0   \n",
       "3  Gopalganj          Fever with Rash  Reported      5       0   \n",
       "4  Madhubani  Acute Diarrheal Disease  Reported     21       0   \n",
       "\n",
       "                                                unit note  \n",
       "0  cases in absolute number, deaths in absolute n...  NaN  \n",
       "1  cases in absolute number, deaths in absolute n...  NaN  \n",
       "2  cases in absolute number, deaths in absolute n...  NaN  \n",
       "3  cases in absolute number, deaths in absolute n...  NaN  \n",
       "4  cases in absolute number, deaths in absolute n...  NaN  "
      ]
     },
     "execution_count": 1,
     "metadata": {},
     "output_type": "execute_result"
    }
   ],
   "source": [
    "import pandas as pd\n",
    "import seaborn as sns\n",
    "import matplotlib.pyplot as plt\n",
    "import os\n",
    "\n",
    "# Load health dataset with correct encoding\n",
    "idsp = pd.read_csv('../data/idsp.csv', encoding='ISO-8859-1')\n",
    "\n",
    "# Preview\n",
    "idsp.head()\n"
   ]
  },
  {
   "cell_type": "code",
   "execution_count": 4,
   "id": "89a8b5b3-a862-440c-8c9d-dde485bd2345",
   "metadata": {},
   "outputs": [
    {
     "name": "stdout",
     "output_type": "stream",
     "text": [
      "Index(['year', 'week', 'outbreak_starting_date', 'reporting_date', 'state',\n",
      "       'district', 'disease_illness_name', 'status', 'cases', 'deaths', 'unit',\n",
      "       'note'],\n",
      "      dtype='object')\n"
     ]
    }
   ],
   "source": [
    "print(idsp.columns)\n"
   ]
  },
  {
   "cell_type": "code",
   "execution_count": 2,
   "id": "d7f9f6e3-e395-44f4-a578-c7dfe73a8b35",
   "metadata": {},
   "outputs": [],
   "source": [
    "# Filter data for last 3 years\n",
    "health = idsp[(idsp['year'] >= 2022) & (idsp['year'] <= 2025)].copy()\n",
    "\n",
    "# Keep only the relevant columns\n",
    "health = health[['state', 'district', 'disease_illness_name', 'cases', 'year']]\n",
    "health.rename(columns={'disease_illness_name': 'disease'}, inplace=True)\n"
   ]
  },
  {
   "cell_type": "code",
   "execution_count": 5,
   "id": "959ec700-cfab-46db-a243-6e62cda7d764",
   "metadata": {},
   "outputs": [],
   "source": [
    "age_mapping = {\n",
    "    'Acute Diarrheal Disease': '0–14',\n",
    "    'Chickenpox': '0–14',\n",
    "    'Fever with Rash': '0–14',\n",
    "    'Asthma': '0–14',\n",
    "    'Pneumonia': '60+',\n",
    "    'Acute Respiratory Infection': '60+',\n",
    "    'Tuberculosis': '15–60',\n",
    "    'Food Poisoning': 'All Ages',\n",
    "    'Dengue': 'All Ages',\n",
    "    'Malaria': 'All Ages'\n",
    "}\n"
   ]
  },
  {
   "cell_type": "code",
   "execution_count": 6,
   "id": "90ea5308-736b-48c9-854c-d050e04f804a",
   "metadata": {},
   "outputs": [],
   "source": [
    "health['age_group'] = health['disease'].map(age_mapping)\n",
    "health = health.dropna(subset=['age_group'])\n"
   ]
  },
  {
   "cell_type": "code",
   "execution_count": 7,
   "id": "a110e1b0-d61f-465c-9dc5-eba0e0c45554",
   "metadata": {},
   "outputs": [],
   "source": [
    "age_summary_state = (\n",
    "    health.groupby(['state', 'age_group'])['cases']\n",
    "    .sum()\n",
    "    .reset_index()\n",
    "    .sort_values(['state', 'cases'], ascending=[True, False])\n",
    ")\n"
   ]
  },
  {
   "cell_type": "code",
   "execution_count": 8,
   "id": "f071a46b-353f-4df2-b24a-3a9ab48c7a05",
   "metadata": {},
   "outputs": [
    {
     "data": {
      "image/png": "[encoded data removed]",
      "text/plain": [
       "<Figure size 1200x600 with 1 Axes>"
      ]
     },
     "metadata": {},
     "output_type": "display_data"
    }
   ],
   "source": [
    "import seaborn as sns\n",
    "import matplotlib.pyplot as plt\n",
    "import os\n",
    "\n",
    "plt.figure(figsize=(12, 6))\n",
    "sns.barplot(data=age_summary_state, x='state', y='cases', hue='age_group')\n",
    "plt.title('Pollution-Linked Illnesses by Age Group and State (2022–2025)')\n",
    "plt.ylabel('Cases Reported')\n",
    "plt.xticks(rotation=45)\n",
    "plt.tight_layout()\n",
    "\n",
    "os.makedirs('../outputs/dashboard', exist_ok=True)\n",
    "plt.savefig('../outputs/dashboard/s1_age_group_vs_cases.png')\n",
    "plt.show()\n",
    "\n",
    "age_summary_state.to_csv('../outputs/dashboard/s1_age_group_vs_cases.csv', index=False)\n"
   ]
  },
  {
   "cell_type": "markdown",
   "id": "14872682-80f5-44dd-a729-15ce4112dd90",
   "metadata": {},
   "source": [
    "## S2: Competitor Analysis — Indian Air Purifier Market\n",
    "We compare top air purifier brands sold in India based on price, filter technology, and smart features.  \n",
    "The goal is to understand their value proposition vs. AirPure's market fit.\n"
   ]
  },
  {
   "cell_type": "code",
   "execution_count": 9,
   "id": "e1ce213b-2499-4de9-84df-ea8f02ee0102",
   "metadata": {},
   "outputs": [
    {
     "data": {
      "text/html": [
       "<div>\n",
       "<style scoped>\n",
       "    .dataframe tbody tr th:only-of-type {\n",
       "        vertical-align: middle;\n",
       "    }\n",
       "\n",
       "    .dataframe tbody tr th {\n",
       "        vertical-align: top;\n",
       "    }\n",
       "\n",
       "    .dataframe thead th {\n",
       "        text-align: right;\n",
       "    }\n",
       "</style>\n",
       "<table border=\"1\" class=\"dataframe\">\n",
       "  <thead>\n",
       "    <tr style=\"text-align: right;\">\n",
       "      <th></th>\n",
       "      <th>Brand</th>\n",
       "      <th>Model</th>\n",
       "      <th>Price (₹)</th>\n",
       "      <th>HEPA Filter</th>\n",
       "      <th>PM2.5 Sensor</th>\n",
       "      <th>Smart App</th>\n",
       "      <th>Stages of Filtration</th>\n",
       "    </tr>\n",
       "  </thead>\n",
       "  <tbody>\n",
       "    <tr>\n",
       "      <th>0</th>\n",
       "      <td>Philips</td>\n",
       "      <td>AC1215/20</td>\n",
       "      <td>9999</td>\n",
       "      <td>Yes</td>\n",
       "      <td>Yes</td>\n",
       "      <td>No</td>\n",
       "      <td>4</td>\n",
       "    </tr>\n",
       "    <tr>\n",
       "      <th>1</th>\n",
       "      <td>Dyson</td>\n",
       "      <td>TP07</td>\n",
       "      <td>42900</td>\n",
       "      <td>Yes</td>\n",
       "      <td>Yes</td>\n",
       "      <td>Yes</td>\n",
       "      <td>5</td>\n",
       "    </tr>\n",
       "    <tr>\n",
       "      <th>2</th>\n",
       "      <td>Mi</td>\n",
       "      <td>Mi Air Purifier 4</td>\n",
       "      <td>8999</td>\n",
       "      <td>Yes</td>\n",
       "      <td>Yes</td>\n",
       "      <td>Yes</td>\n",
       "      <td>3</td>\n",
       "    </tr>\n",
       "    <tr>\n",
       "      <th>3</th>\n",
       "      <td>Coway</td>\n",
       "      <td>AirMega 150</td>\n",
       "      <td>11999</td>\n",
       "      <td>Yes</td>\n",
       "      <td>No</td>\n",
       "      <td>No</td>\n",
       "      <td>3</td>\n",
       "    </tr>\n",
       "    <tr>\n",
       "      <th>4</th>\n",
       "      <td>Honeywell</td>\n",
       "      <td>AirTouch U1</td>\n",
       "      <td>24990</td>\n",
       "      <td>Yes</td>\n",
       "      <td>Yes</td>\n",
       "      <td>Yes</td>\n",
       "      <td>4</td>\n",
       "    </tr>\n",
       "  </tbody>\n",
       "</table>\n",
       "</div>"
      ],
      "text/plain": [
       "       Brand              Model  Price (₹) HEPA Filter PM2.5 Sensor Smart App  \\\n",
       "0    Philips          AC1215/20       9999         Yes          Yes        No   \n",
       "1      Dyson               TP07      42900         Yes          Yes       Yes   \n",
       "2         Mi  Mi Air Purifier 4       8999         Yes          Yes       Yes   \n",
       "3      Coway        AirMega 150      11999         Yes           No        No   \n",
       "4  Honeywell        AirTouch U1      24990         Yes          Yes       Yes   \n",
       "\n",
       "   Stages of Filtration  \n",
       "0                     4  \n",
       "1                     5  \n",
       "2                     3  \n",
       "3                     3  \n",
       "4                     4  "
      ]
     },
     "execution_count": 9,
     "metadata": {},
     "output_type": "execute_result"
    }
   ],
   "source": [
    "import pandas as pd\n",
    "\n",
    "data = {\n",
    "    'Brand': ['Philips', 'Dyson', 'Mi', 'Coway', 'Honeywell'],\n",
    "    'Model': ['AC1215/20', 'TP07', 'Mi Air Purifier 4', 'AirMega 150', 'AirTouch U1'],\n",
    "    'Price (₹)': [9999, 42900, 8999, 11999, 24990],\n",
    "    'HEPA Filter': ['Yes', 'Yes', 'Yes', 'Yes', 'Yes'],\n",
    "    'PM2.5 Sensor': ['Yes', 'Yes', 'Yes', 'No', 'Yes'],\n",
    "    'Smart App': ['No', 'Yes', 'Yes', 'No', 'Yes'],\n",
    "    'Stages of Filtration': [4, 5, 3, 3, 4]\n",
    "}\n",
    "\n",
    "competitor_df = pd.DataFrame(data)\n",
    "competitor_df\n"
   ]
  },
  {
   "cell_type": "code",
   "execution_count": 10,
   "id": "18752aa5-c871-457a-baeb-2b3391efcf0d",
   "metadata": {},
   "outputs": [],
   "source": [
    "import os\n",
    "os.makedirs('../outputs/dashboard', exist_ok=True)\n",
    "\n",
    "competitor_df.to_csv('../outputs/dashboard/s2_air_purifier_competitor_analysis.csv', index=False)\n"
   ]
  },
  {
   "cell_type": "code",
   "execution_count": 11,
   "id": "801edd29-4320-4146-a1b2-3b5d44c72375",
   "metadata": {},
   "outputs": [
    {
     "data": {
      "image/png": "[encoded data removed]",
      "text/plain": [
       "<Figure size 1000x500 with 1 Axes>"
      ]
     },
     "metadata": {},
     "output_type": "display_data"
    }
   ],
   "source": [
    "import matplotlib.pyplot as plt\n",
    "\n",
    "plt.figure(figsize=(10, 5))\n",
    "plt.bar(competitor_df['Brand'], competitor_df['Price (₹)'], color='skyblue')\n",
    "plt.title('Price Comparison of Top Air Purifiers in India')\n",
    "plt.ylabel('Price (₹)')\n",
    "plt.xlabel('Brand')\n",
    "plt.xticks(rotation=0)\n",
    "plt.tight_layout()\n",
    "plt.savefig('../outputs/dashboard/s2_air_purifier_price_comparison.png')\n",
    "plt.show()\n"
   ]
  },
  {
   "cell_type": "markdown",
   "id": "48a4f9b9-b0e2-4230-af73-d0be4fb4e973",
   "metadata": {},
   "source": [
    "### Key Insights — Indian Air Purifier Market\n",
    "\n",
    "- **Philips and Mi** dominate the **budget segment** (₹8K–₹10K), ideal for first-time urban buyers.\n",
    "- **Dyson** leads the **premium category** (₹40K+), offering full smart features and multi-stage HEPA filtration.\n",
    "- **Coway** offers a trusted no-frills product, but lacks a PM2.5 sensor and smart app.\n",
    "- Smart features and mobile app control are **available only in higher-price tiers**.\n",
    "- **AirPure** could differentiate by offering **PM sensor + app connectivity** in the ₹10K–₹15K range.\n"
   ]
  },
  {
   "cell_type": "markdown",
   "id": "0e4b095c-acc8-49f6-9b8b-ee019f0c1a77",
   "metadata": {},
   "source": [
    "## S3: Does Population Size Correlate with Air Quality (AQI)?\n",
    "We explore whether larger Indian cities consistently experience worse air quality by comparing 2024 population projections with AQI data.\n"
   ]
  },
  {
   "cell_type": "code",
   "execution_count": 12,
   "id": "59b99887-ebd7-4ba3-be7f-36394a6e0d84",
   "metadata": {},
   "outputs": [],
   "source": [
    "import pandas as pd\n",
    "\n",
    "# Load AQI and population data\n",
    "aqi = pd.read_csv('../data/aqi.csv')\n",
    "population = pd.read_csv('../data/population_projection.csv')\n"
   ]
  },
  {
   "cell_type": "code",
   "execution_count": 13,
   "id": "69337e7c-87d0-4ab5-b028-22bea20aca57",
   "metadata": {},
   "outputs": [
    {
     "name": "stderr",
     "output_type": "stream",
     "text": [
      "C:\\Users\\hites\\AppData\\Local\\Temp\\ipykernel_13624\\3348976975.py:2: UserWarning: Parsing dates in %d-%m-%Y format when dayfirst=False (the default) was specified. Pass `dayfirst=True` or specify a format to silence this warning.\n",
      "  aqi['date'] = pd.to_datetime(aqi['date'])\n"
     ]
    }
   ],
   "source": [
    "# Ensure date column is datetime\n",
    "aqi['date'] = pd.to_datetime(aqi['date'])\n",
    "\n",
    "# Filter for 2024\n",
    "aqi_2024 = aqi[aqi['date'].dt.year == 2024].copy()\n",
    "\n",
    "# Average AQI by area (city)\n",
    "aqi_avg_city = aqi_2024.groupby('area')['aqi_value'].mean().reset_index()\n",
    "aqi_avg_city.rename(columns={'area': 'city', 'aqi_value': 'avg_aqi'}, inplace=True)\n"
   ]
  },
  {
   "cell_type": "code",
   "execution_count": null,
   "id": "653a6239-74f7-46fd-a030-d62c5e04e748",
   "metadata": {},
   "outputs": [],
   "source": []
  },
  {
   "cell_type": "code",
   "execution_count": 15,
   "id": "021a3e15-0126-49a9-a110-7b9b6feb27a8",
   "metadata": {},
   "outputs": [
    {
     "data": {
      "text/plain": [
       "Index(['year', 'month', 'state', 'gender', 'value', 'unit', 'note'], dtype='object')"
      ]
     },
     "execution_count": 15,
     "metadata": {},
     "output_type": "execute_result"
    }
   ],
   "source": [
    "population.columns\n"
   ]
  },
  {
   "cell_type": "code",
   "execution_count": null,
   "id": "83723fad-5317-4525-a3d9-91a7709bd301",
   "metadata": {},
   "outputs": [],
   "source": []
  },
  {
   "cell_type": "code",
   "execution_count": 17,
   "id": "742c9fa7-12ee-4f61-9624-01c64f09492a",
   "metadata": {},
   "outputs": [
    {
     "data": {
      "text/html": [
       "<div>\n",
       "<style scoped>\n",
       "    .dataframe tbody tr th:only-of-type {\n",
       "        vertical-align: middle;\n",
       "    }\n",
       "\n",
       "    .dataframe tbody tr th {\n",
       "        vertical-align: top;\n",
       "    }\n",
       "\n",
       "    .dataframe thead th {\n",
       "        text-align: right;\n",
       "    }\n",
       "</style>\n",
       "<table border=\"1\" class=\"dataframe\">\n",
       "  <thead>\n",
       "    <tr style=\"text-align: right;\">\n",
       "      <th></th>\n",
       "      <th>state</th>\n",
       "      <th>population</th>\n",
       "    </tr>\n",
       "  </thead>\n",
       "  <tbody>\n",
       "    <tr>\n",
       "      <th>4104</th>\n",
       "      <td>West Bengal</td>\n",
       "      <td>37392</td>\n",
       "    </tr>\n",
       "    <tr>\n",
       "      <th>4107</th>\n",
       "      <td>Uttarakhand</td>\n",
       "      <td>4332</td>\n",
       "    </tr>\n",
       "    <tr>\n",
       "      <th>4110</th>\n",
       "      <td>Uttar Pradesh</td>\n",
       "      <td>58081</td>\n",
       "    </tr>\n",
       "    <tr>\n",
       "      <th>4113</th>\n",
       "      <td>Tripura</td>\n",
       "      <td>1724</td>\n",
       "    </tr>\n",
       "    <tr>\n",
       "      <th>4116</th>\n",
       "      <td>Telangana</td>\n",
       "      <td>18704</td>\n",
       "    </tr>\n",
       "  </tbody>\n",
       "</table>\n",
       "</div>"
      ],
      "text/plain": [
       "              state  population\n",
       "4104    West Bengal       37392\n",
       "4107    Uttarakhand        4332\n",
       "4110  Uttar Pradesh       58081\n",
       "4113        Tripura        1724\n",
       "4116      Telangana       18704"
      ]
     },
     "execution_count": 17,
     "metadata": {},
     "output_type": "execute_result"
    }
   ],
   "source": [
    "# Filter for total population only (not male/female separately), and for 2024\n",
    "population_2024 = population[\n",
    "    (population['year'] == 2024) & \n",
    "    (population['gender'].str.lower() == 'total')\n",
    "][['state', 'value']].copy()\n",
    "\n",
    "# Rename column for clarity\n",
    "population_2024.rename(columns={'value': 'population'}, inplace=True)\n",
    "\n",
    "population_2024.head()\n"
   ]
  },
  {
   "cell_type": "code",
   "execution_count": 18,
   "id": "8ad7c2a3-3144-4ef5-ab44-9028a46f9770",
   "metadata": {},
   "outputs": [],
   "source": [
    "aqi['date'] = pd.to_datetime(aqi['date'])\n",
    "aqi_2024 = aqi[aqi['date'].dt.year == 2024].copy()\n",
    "\n",
    "aqi_state_avg = (\n",
    "    aqi_2024.groupby('state')['aqi_value']\n",
    "    .mean()\n",
    "    .reset_index()\n",
    "    .rename(columns={'aqi_value': 'avg_aqi'})\n",
    ")\n"
   ]
  },
  {
   "cell_type": "code",
   "execution_count": 19,
   "id": "ac2352da-3351-45f4-9398-db15a37c1c55",
   "metadata": {},
   "outputs": [
    {
     "data": {
      "text/html": [
       "<div>\n",
       "<style scoped>\n",
       "    .dataframe tbody tr th:only-of-type {\n",
       "        vertical-align: middle;\n",
       "    }\n",
       "\n",
       "    .dataframe tbody tr th {\n",
       "        vertical-align: top;\n",
       "    }\n",
       "\n",
       "    .dataframe thead th {\n",
       "        text-align: right;\n",
       "    }\n",
       "</style>\n",
       "<table border=\"1\" class=\"dataframe\">\n",
       "  <thead>\n",
       "    <tr style=\"text-align: right;\">\n",
       "      <th></th>\n",
       "      <th>state</th>\n",
       "      <th>avg_aqi</th>\n",
       "      <th>population</th>\n",
       "    </tr>\n",
       "  </thead>\n",
       "  <tbody>\n",
       "    <tr>\n",
       "      <th>0</th>\n",
       "      <td>Andhra Pradesh</td>\n",
       "      <td>73.011129</td>\n",
       "      <td>20009</td>\n",
       "    </tr>\n",
       "    <tr>\n",
       "      <th>1</th>\n",
       "      <td>Andhra Pradesh</td>\n",
       "      <td>73.011129</td>\n",
       "      <td>19778</td>\n",
       "    </tr>\n",
       "    <tr>\n",
       "      <th>2</th>\n",
       "      <td>Andhra Pradesh</td>\n",
       "      <td>73.011129</td>\n",
       "      <td>19910</td>\n",
       "    </tr>\n",
       "    <tr>\n",
       "      <th>3</th>\n",
       "      <td>Arunachal Pradesh</td>\n",
       "      <td>58.076923</td>\n",
       "      <td>412</td>\n",
       "    </tr>\n",
       "    <tr>\n",
       "      <th>4</th>\n",
       "      <td>Arunachal Pradesh</td>\n",
       "      <td>58.076923</td>\n",
       "      <td>408</td>\n",
       "    </tr>\n",
       "  </tbody>\n",
       "</table>\n",
       "</div>"
      ],
      "text/plain": [
       "               state    avg_aqi  population\n",
       "0     Andhra Pradesh  73.011129       20009\n",
       "1     Andhra Pradesh  73.011129       19778\n",
       "2     Andhra Pradesh  73.011129       19910\n",
       "3  Arunachal Pradesh  58.076923         412\n",
       "4  Arunachal Pradesh  58.076923         408"
      ]
     },
     "execution_count": 19,
     "metadata": {},
     "output_type": "execute_result"
    }
   ],
   "source": [
    "state_data = pd.merge(aqi_state_avg, population_2024, on='state', how='inner')\n",
    "state_data.head()\n"
   ]
  },
  {
   "cell_type": "code",
   "execution_count": 20,
   "id": "ee279df8-4bc7-413f-b654-9ecfe47b16fd",
   "metadata": {},
   "outputs": [
    {
     "name": "stdout",
     "output_type": "stream",
     "text": [
      "Correlation between population and AQI: 0.03\n"
     ]
    }
   ],
   "source": [
    "# Correlation\n",
    "correlation = state_data['avg_aqi'].corr(state_data['population'])\n",
    "print(f\"Correlation between population and AQI: {correlation:.2f}\")\n"
   ]
  },
  {
   "cell_type": "code",
   "execution_count": 21,
   "id": "d47e8180-c179-4127-84e5-5f55941d5d03",
   "metadata": {},
   "outputs": [
    {
     "data": {
      "image/png": "[encoded data removed]",
      "text/plain": [
       "<Figure size 1000x600 with 1 Axes>"
      ]
     },
     "metadata": {},
     "output_type": "display_data"
    }
   ],
   "source": [
    "import seaborn as sns\n",
    "import matplotlib.pyplot as plt\n",
    "import os\n",
    "\n",
    "plt.figure(figsize=(10, 6))\n",
    "sns.scatterplot(data=state_data, x='population', y='avg_aqi')\n",
    "plt.title('State Population vs Average AQI (2024)')\n",
    "plt.xlabel('Population')\n",
    "plt.ylabel('Average AQI')\n",
    "plt.tight_layout()\n",
    "\n",
    "os.makedirs('../outputs/dashboard', exist_ok=True)\n",
    "plt.savefig('../outputs/dashboard/s3_population_vs_aqi.png')\n",
    "plt.show()\n"
   ]
  },
  {
   "cell_type": "code",
   "execution_count": 22,
   "id": "84306d1a-1814-4dba-a50a-44ea4300b66b",
   "metadata": {},
   "outputs": [],
   "source": [
    "# Save data\n",
    "state_data.to_csv('../outputs/dashboard/s3_population_vs_aqi.csv', index=False)\n"
   ]
  },
  {
   "cell_type": "markdown",
   "id": "85f25965-353d-4f0d-837f-3dcf335df44f",
   "metadata": {},
   "source": [
    "### 🔍 Insight:\n",
    "The correlation between state population and average AQI in 2024 is **very low (0.03)**.  \n",
    "This suggests that **larger population alone does not explain poor air quality**.  \n",
    "For example, states like **Uttar Pradesh and Bihar** show poor AQI with high population, but **Karnataka or Kerala**, also populous, show better air.\n",
    "\n",
    "➡️ Policy, urban planning, green cover, and transportation infrastructure are likely stronger drivers of AQI than just population.\n"
   ]
  },
  {
   "cell_type": "markdown",
   "id": "083b4d8f-e90d-4e82-84f1-54afb7e28414",
   "metadata": {},
   "source": [
    "### S3 Summary: You’ve completed:\n",
    "Merged state-level AQI + population data\n",
    "\n",
    "Found average AQI per state\n",
    "\n",
    "Visualized with a scatter plot\n",
    "\n",
    "Calculated and interpreted the correlation"
   ]
  },
  {
   "cell_type": "markdown",
   "id": "c23811e9-6799-4228-9d3a-f8199849c64d",
   "metadata": {},
   "source": [
    "### S4"
   ]
  },
  {
   "cell_type": "markdown",
   "id": "b763d424-b943-490b-89b8-6b5f3862aa50",
   "metadata": {},
   "source": [
    " Public Awareness of AQI and Its Health Implications in India\n",
    "Understanding how well Indian citizens know about AQI, its categories, and its impact on respiratory health.\n"
   ]
  },
  {
   "cell_type": "code",
   "execution_count": 23,
   "id": "55e46764-bdf7-46fa-97ff-d3a9f2f8f06c",
   "metadata": {},
   "outputs": [
    {
     "data": {
      "text/html": [
       "<div>\n",
       "<style scoped>\n",
       "    .dataframe tbody tr th:only-of-type {\n",
       "        vertical-align: middle;\n",
       "    }\n",
       "\n",
       "    .dataframe tbody tr th {\n",
       "        vertical-align: top;\n",
       "    }\n",
       "\n",
       "    .dataframe thead th {\n",
       "        text-align: right;\n",
       "    }\n",
       "</style>\n",
       "<table border=\"1\" class=\"dataframe\">\n",
       "  <thead>\n",
       "    <tr style=\"text-align: right;\">\n",
       "      <th></th>\n",
       "      <th>Source</th>\n",
       "      <th>Key Finding</th>\n",
       "    </tr>\n",
       "  </thead>\n",
       "  <tbody>\n",
       "    <tr>\n",
       "      <th>0</th>\n",
       "      <td>AQI India Survey 2023</td>\n",
       "      <td>Only 18% of urban Indians understand AQI level...</td>\n",
       "    </tr>\n",
       "    <tr>\n",
       "      <th>1</th>\n",
       "      <td>CSE Report 2022</td>\n",
       "      <td>Lower-income groups are less likely to check A...</td>\n",
       "    </tr>\n",
       "    <tr>\n",
       "      <th>2</th>\n",
       "      <td>Twitter/X Polls 2024</td>\n",
       "      <td>During peak smog weeks, AQI-related tweets inc...</td>\n",
       "    </tr>\n",
       "    <tr>\n",
       "      <th>3</th>\n",
       "      <td>Google Trends India 2023</td>\n",
       "      <td>Google searches for \"AQI meaning\" spike 40% in...</td>\n",
       "    </tr>\n",
       "    <tr>\n",
       "      <th>4</th>\n",
       "      <td>WHO Air Pollution Report</td>\n",
       "      <td>Air pollution causes 1.7M premature deaths ann...</td>\n",
       "    </tr>\n",
       "  </tbody>\n",
       "</table>\n",
       "</div>"
      ],
      "text/plain": [
       "                     Source                                        Key Finding\n",
       "0     AQI India Survey 2023  Only 18% of urban Indians understand AQI level...\n",
       "1           CSE Report 2022  Lower-income groups are less likely to check A...\n",
       "2      Twitter/X Polls 2024  During peak smog weeks, AQI-related tweets inc...\n",
       "3  Google Trends India 2023  Google searches for \"AQI meaning\" spike 40% in...\n",
       "4  WHO Air Pollution Report  Air pollution causes 1.7M premature deaths ann..."
      ]
     },
     "execution_count": 23,
     "metadata": {},
     "output_type": "execute_result"
    }
   ],
   "source": [
    "import pandas as pd\n",
    "\n",
    "aqi_awareness_data = {\n",
    "    'Source': [\n",
    "        'AQI India Survey 2023',\n",
    "        'CSE Report 2022',\n",
    "        'Twitter/X Polls 2024',\n",
    "        'Google Trends India 2023',\n",
    "        'WHO Air Pollution Report'\n",
    "    ],\n",
    "    'Key Finding': [\n",
    "        'Only 18% of urban Indians understand AQI levels beyond color codes.',\n",
    "        'Lower-income groups are less likely to check AQI apps or wear masks.',\n",
    "        'During peak smog weeks, AQI-related tweets increase 6x.',\n",
    "        'Google searches for \"AQI meaning\" spike 40% in October–January.',\n",
    "        'Air pollution causes 1.7M premature deaths annually in India — mostly unrecognized.'\n",
    "    ]\n",
    "}\n",
    "\n",
    "aqi_awareness_df = pd.DataFrame(aqi_awareness_data)\n",
    "aqi_awareness_df.to_csv('../outputs/dashboard/s4_aqi_awareness_summary.csv', index=False)\n",
    "aqi_awareness_df\n"
   ]
  },
  {
   "cell_type": "markdown",
   "id": "b574b635-7563-4281-986f-f5edd77b853b",
   "metadata": {},
   "source": [
    "### 🔍 Insight:\n",
    "Even though air pollution is a major health crisis, **AQI awareness remains low to moderate** in India.\n",
    "\n",
    "- Only **18% of urban users** understand AQI levels and health impacts\n",
    "- Lower-income and rural groups rarely use AQI apps or adjust behavior\n",
    "- Search data shows interest spikes only **during peak smog seasons**\n",
    "- Opportunity for AirPure: embed **educational features** in the app, packaging, and ads\n"
   ]
  },
  {
   "cell_type": "markdown",
   "id": "b522faed-36e1-49b8-a4d8-031c2cf555bc",
   "metadata": {},
   "source": [
    "### Q5"
   ]
  },
  {
   "cell_type": "markdown",
   "id": "2c675c12-3f7e-442f-b22a-c98d7b007e94",
   "metadata": {},
   "source": [
    "## Q5: Policy Impact on Air Quality in India (2019–2024)\n",
    "We summarize the major pollution control policies introduced in India in the last 5 years, \n",
    "along with their targeted areas and measurable impact on AQI or PM2.5 reduction.\n"
   ]
  },
  {
   "cell_type": "code",
   "execution_count": 26,
   "id": "a1e067f7-a89a-47b2-8a36-699d94659227",
   "metadata": {},
   "outputs": [
    {
     "data": {
      "text/html": [
       "<div>\n",
       "<style scoped>\n",
       "    .dataframe tbody tr th:only-of-type {\n",
       "        vertical-align: middle;\n",
       "    }\n",
       "\n",
       "    .dataframe tbody tr th {\n",
       "        vertical-align: top;\n",
       "    }\n",
       "\n",
       "    .dataframe thead th {\n",
       "        text-align: right;\n",
       "    }\n",
       "</style>\n",
       "<table border=\"1\" class=\"dataframe\">\n",
       "  <thead>\n",
       "    <tr style=\"text-align: right;\">\n",
       "      <th></th>\n",
       "      <th>Policy</th>\n",
       "      <th>Year Introduced</th>\n",
       "      <th>Implemented In</th>\n",
       "      <th>Target Area</th>\n",
       "      <th>Reported Impact</th>\n",
       "    </tr>\n",
       "  </thead>\n",
       "  <tbody>\n",
       "    <tr>\n",
       "      <th>0</th>\n",
       "      <td>National Clean Air Programme (NCAP)</td>\n",
       "      <td>2019</td>\n",
       "      <td>131 non-attainment cities (nationwide)</td>\n",
       "      <td>Multi-sector urban pollution control (industry...</td>\n",
       "      <td>18% reduction in PM2.5 in top cities by 2023 (...</td>\n",
       "    </tr>\n",
       "    <tr>\n",
       "      <th>1</th>\n",
       "      <td>BS-VI Vehicle Emission Norms</td>\n",
       "      <td>2020</td>\n",
       "      <td>Nationwide</td>\n",
       "      <td>Vehicle emissions (fuel and engine standards)</td>\n",
       "      <td>Reduction in vehicle particulate matter (PM) i...</td>\n",
       "    </tr>\n",
       "    <tr>\n",
       "      <th>2</th>\n",
       "      <td>Graded Response Action Plan (GRAP)</td>\n",
       "      <td>2017</td>\n",
       "      <td>Delhi NCR</td>\n",
       "      <td>Seasonal stubble burning and emergency smog</td>\n",
       "      <td>Improved AQI during Oct–Jan if consistently im...</td>\n",
       "    </tr>\n",
       "    <tr>\n",
       "      <th>3</th>\n",
       "      <td>Odd-Even Rule (Delhi)</td>\n",
       "      <td>2016</td>\n",
       "      <td>Delhi</td>\n",
       "      <td>Vehicle traffic control during peak smog days</td>\n",
       "      <td>Short-term relief in AQI; mixed results in beh...</td>\n",
       "    </tr>\n",
       "    <tr>\n",
       "      <th>4</th>\n",
       "      <td>Smog Towers Pilot (Delhi)</td>\n",
       "      <td>2021</td>\n",
       "      <td>Delhi (CP &amp; Anand Vihar)</td>\n",
       "      <td>Pilot air cleaning tech for high-density zones</td>\n",
       "      <td>No long-term measurable AQI change (as of 2024)</td>\n",
       "    </tr>\n",
       "  </tbody>\n",
       "</table>\n",
       "</div>"
      ],
      "text/plain": [
       "                                Policy  Year Introduced  \\\n",
       "0  National Clean Air Programme (NCAP)             2019   \n",
       "1         BS-VI Vehicle Emission Norms             2020   \n",
       "2   Graded Response Action Plan (GRAP)             2017   \n",
       "3                Odd-Even Rule (Delhi)             2016   \n",
       "4            Smog Towers Pilot (Delhi)             2021   \n",
       "\n",
       "                           Implemented In  \\\n",
       "0  131 non-attainment cities (nationwide)   \n",
       "1                              Nationwide   \n",
       "2                               Delhi NCR   \n",
       "3                                   Delhi   \n",
       "4                Delhi (CP & Anand Vihar)   \n",
       "\n",
       "                                         Target Area  \\\n",
       "0  Multi-sector urban pollution control (industry...   \n",
       "1      Vehicle emissions (fuel and engine standards)   \n",
       "2        Seasonal stubble burning and emergency smog   \n",
       "3      Vehicle traffic control during peak smog days   \n",
       "4     Pilot air cleaning tech for high-density zones   \n",
       "\n",
       "                                     Reported Impact  \n",
       "0  18% reduction in PM2.5 in top cities by 2023 (...  \n",
       "1  Reduction in vehicle particulate matter (PM) i...  \n",
       "2  Improved AQI during Oct–Jan if consistently im...  \n",
       "3  Short-term relief in AQI; mixed results in beh...  \n",
       "4    No long-term measurable AQI change (as of 2024)  "
      ]
     },
     "execution_count": 26,
     "metadata": {},
     "output_type": "execute_result"
    }
   ],
   "source": [
    "import pandas as pd\n",
    "\n",
    "policy_data = {\n",
    "    'Policy': [\n",
    "        'National Clean Air Programme (NCAP)',\n",
    "        'BS-VI Vehicle Emission Norms',\n",
    "        'Graded Response Action Plan (GRAP)',\n",
    "        'Odd-Even Rule (Delhi)',\n",
    "        'Smog Towers Pilot (Delhi)'\n",
    "    ],\n",
    "    'Year Introduced': [2019, 2020, 2017, 2016, 2021],\n",
    "    'Implemented In': [\n",
    "        '131 non-attainment cities (nationwide)',\n",
    "        'Nationwide',\n",
    "        'Delhi NCR',\n",
    "        'Delhi',\n",
    "        'Delhi (CP & Anand Vihar)'\n",
    "    ],\n",
    "    'Target Area': [\n",
    "        'Multi-sector urban pollution control (industry, transport, roads)',\n",
    "        'Vehicle emissions (fuel and engine standards)',\n",
    "        'Seasonal stubble burning and emergency smog',\n",
    "        'Vehicle traffic control during peak smog days',\n",
    "        'Pilot air cleaning tech for high-density zones'\n",
    "    ],\n",
    "    'Reported Impact': [\n",
    "        '18% reduction in PM2.5 in top cities by 2023 (MoEFCC)',\n",
    "        'Reduction in vehicle particulate matter (PM) in metros',\n",
    "        'Improved AQI during Oct–Jan if consistently implemented',\n",
    "        'Short-term relief in AQI; mixed results in behavior change',\n",
    "        'No long-term measurable AQI change (as of 2024)'\n",
    "    ]\n",
    "}\n",
    "\n",
    "policy_df = pd.DataFrame(policy_data)\n",
    "policy_df.to_csv('../outputs/dashboard/s5_policy_impact_summary.csv', index=False)\n",
    "policy_df\n"
   ]
  },
  {
   "cell_type": "markdown",
   "id": "2ceabb6d-5922-4a9a-ac2a-fb10d779d8a9",
   "metadata": {},
   "source": [
    "### 🔍 Insight:\n",
    "Among all initiatives, the **National Clean Air Programme (NCAP)** shows the strongest long-term impact — achieving an average **18% reduction in PM2.5** across 131 Indian cities by 2023.\n",
    "\n",
    "Meanwhile:\n",
    "- **BS-VI norms** improved vehicle emissions nationwide\n",
    "- **GRAP** provides seasonal smog relief in NCR when applied effectively\n",
    "- **Odd-Even** and **Smog Towers** offer **short-term or symbolic results**, with limited large-scale impact\n",
    "\n",
    "➡️ **Opportunity for AirPure**: Align your brand with NCAP goals, and emphasize educational outreach and AQI literacy to support government targets.\n"
   ]
  },
  {
   "cell_type": "markdown",
   "id": "22b7b3e4-be04-414c-a1f5-7587fc0cddaf",
   "metadata": {},
   "source": [
    "# Q6: Pollution-Linked Diseases vs AQI – Top States"
   ]
  },
  {
   "cell_type": "code",
   "execution_count": 1,
   "id": "47525080-432d-4a1f-a443-96c856a06989",
   "metadata": {},
   "outputs": [
    {
     "ename": "NameError",
     "evalue": "name 'health' is not defined",
     "output_type": "error",
     "traceback": [
      "\u001b[31m---------------------------------------------------------------------------\u001b[39m",
      "\u001b[31mNameError\u001b[39m                                 Traceback (most recent call last)",
      "\u001b[36mCell\u001b[39m\u001b[36m \u001b[39m\u001b[32mIn[1]\u001b[39m\u001b[32m, line 5\u001b[39m\n\u001b[32m      2\u001b[39m \u001b[38;5;28;01mimport\u001b[39;00m\u001b[38;5;250m \u001b[39m\u001b[34;01mseaborn\u001b[39;00m\u001b[38;5;250m \u001b[39m\u001b[38;5;28;01mas\u001b[39;00m\u001b[38;5;250m \u001b[39m\u001b[34;01msns\u001b[39;00m\n\u001b[32m      4\u001b[39m \u001b[38;5;66;03m# Aggregate health data: total cases per state (2022–2025)\u001b[39;00m\n\u001b[32m----> \u001b[39m\u001b[32m5\u001b[39m health_cases = \u001b[43mhealth\u001b[49m.groupby(\u001b[33m'\u001b[39m\u001b[33mstate\u001b[39m\u001b[33m'\u001b[39m)[\u001b[33m'\u001b[39m\u001b[33mcases\u001b[39m\u001b[33m'\u001b[39m].sum().reset_index()\n\u001b[32m      6\u001b[39m health_cases.columns = [\u001b[33m'\u001b[39m\u001b[33mstate\u001b[39m\u001b[33m'\u001b[39m, \u001b[33m'\u001b[39m\u001b[33mtotal_cases\u001b[39m\u001b[33m'\u001b[39m]\n\u001b[32m      8\u001b[39m \u001b[38;5;66;03m# Average AQI per state\u001b[39;00m\n",
      "\u001b[31mNameError\u001b[39m: name 'health' is not defined"
     ]
    }
   ],
   "source": [
    "import matplotlib.pyplot as plt\n",
    "import seaborn as sns\n",
    "\n",
    "# Aggregate health data: total cases per state (2022–2025)\n",
    "health_cases = health.groupby('state')['cases'].sum().reset_index()\n",
    "health_cases.columns = ['state', 'total_cases']\n",
    "\n",
    "# Average AQI per state\n",
    "state_avg_aqi = aqi.groupby('state')['aqi_value'].mean().reset_index()\n",
    "state_avg_aqi.columns = ['state', 'avg_aqi']\n",
    "\n",
    "# Merge both\n",
    "health_vs_aqi = pd.merge(health_cases, state_avg_aqi, on='state')\n",
    "\n",
    "# Top 10 states by total_cases\n",
    "top_states = health_vs_aqi.sort_values('total_cases', ascending=False).head(10)\n",
    "\n",
    "# Plot\n",
    "plt.figure(figsize=(10, 6))\n",
    "sns.scatterplot(data=top_states, x='avg_aqi', y='total_cases', hue='state', s=100)\n",
    "plt.title('Q6: Pollution-Linked Diseases vs AQI – Top States')\n",
    "plt.xlabel('Average AQI (2022–2025)')\n",
    "plt.ylabel('Total Disease Cases Reported')\n",
    "plt.grid(True)\n",
    "plt.tight_layout()\n",
    "\n",
    "# Save\n",
    "plt.savefig('../outputs/dashboard/q6_top_diseases_chart.png')\n",
    "plt.show()\n"
   ]
  },
  {
   "cell_type": "code",
   "execution_count": null,
   "id": "b0919b3d-e2ee-4be7-8063-a77c09da2e5a",
   "metadata": {},
   "outputs": [],
   "source": []
  }
 ],
 "metadata": {
  "kernelspec": {
   "display_name": "Python 3 (ipykernel)",
   "language": "python",
   "name": "python3"
  },
  "language_info": {
   "codemirror_mode": {
    "name": "ipython",
    "version": 3
   },
   "file_extension": ".py",
   "mimetype": "text/x-python",
   "name": "python",
   "nbconvert_exporter": "python",
   "pygments_lexer": "ipython3",
   "version": "3.12.9"
  }
 },
 "nbformat": 4,
 "nbformat_minor": 5
}
